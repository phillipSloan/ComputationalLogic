{
  "cells": [
    {
      "cell_type": "markdown",
      "metadata": {
        "id": "view-in-github",
        "colab_type": "text"
      },
      "source": [
        "<a href=\"https://colab.research.google.com/github/phillipSloan/ComputationalLogic/blob/prolexa-plus/Report%20Notebook.ipynb\" target=\"_parent\"><img src=\"https://colab.research.google.com/assets/colab-badge.svg\" alt=\"Open In Colab\"/></a>"
      ]
    },
    {
      "cell_type": "markdown",
      "metadata": {
        "id": "hij-_4uHAzIj"
      },
      "source": [
        "### Install SWI-Prolog\n",
        "\n",
        "Installing non-python dependeincies can be achieved via '!apt-get'"
      ]
    },
    {
      "cell_type": "code",
      "execution_count": 1,
      "metadata": {
        "colab": {
          "base_uri": "https://localhost:8080/"
        },
        "id": "HDY7hKs490UH",
        "outputId": "c05539f9-748d-4d6a-ed53-a0c7f6226b26"
      },
      "outputs": [
        {
          "output_type": "stream",
          "name": "stdout",
          "text": [
            "Extracting templates from packages: 100%\n"
          ]
        }
      ],
      "source": [
        "!apt-get install swi-prolog -qqq > /dev/null"
      ]
    },
    {
      "cell_type": "markdown",
      "metadata": {
        "id": "URGBePflAi8a"
      },
      "source": [
        "### Install Prolexa\n",
        "\n",
        "Install the Prolexa-plus branch directly from Github via pip. Note that once you have forked the Github repo and made changes you will have to change this link to reference your own repo. "
      ]
    },
    {
      "cell_type": "code",
      "execution_count": 2,
      "metadata": {
        "colab": {
          "base_uri": "https://localhost:8080/"
        },
        "id": "LGMiAYLm77DC",
        "outputId": "58c1ce3d-65a9-467a-f9a2-6ea638abdb01"
      },
      "outputs": [
        {
          "output_type": "stream",
          "name": "stdout",
          "text": [
            "\u001b[31m  ERROR: Failed building wheel for prolexa\u001b[0m\n",
            "\u001b[33m  DEPRECATION: prolexa was installed using the legacy 'setup.py install' method, because a wheel could not be built for it. A possible replacement is to fix the wheel build issue reported above. You can find discussion regarding this at https://github.com/pypa/pip/issues/8368.\u001b[0m\n",
            "\u001b[31mERROR: pip's dependency resolver does not currently take into account all the packages that are installed. This behaviour is the source of the following dependency conflicts.\n",
            "markdown 3.3.6 requires importlib-metadata>=4.4; python_version < \"3.10\", but you have importlib-metadata 3.10.1 which is incompatible.\n",
            "google-colab 1.0.0 requires requests~=2.23.0, but you have requests 2.26.0 which is incompatible.\n",
            "datascience 0.10.6 requires folium==0.2.1, but you have folium 0.8.3 which is incompatible.\u001b[0m\n"
          ]
        }
      ],
      "source": [
        "!yes | pip install git+https://github.com/phillipSloan/ComputationalLogic/ -qqq > /dev/null"
      ]
    },
    {
      "cell_type": "markdown",
      "metadata": {
        "id": "4Q1TuvlXBFpA"
      },
      "source": [
        "### Instantiate Prolexa \n"
      ]
    },
    {
      "cell_type": "code",
      "execution_count": 3,
      "metadata": {
        "colab": {
          "base_uri": "https://localhost:8080/"
        },
        "id": "un81VxmqzUMx",
        "outputId": "eec129d0-b36b-4f04-c469-0ee9c98c5ff8"
      },
      "outputs": [
        {
          "output_type": "stream",
          "name": "stdout",
          "text": [
            "2021-12-27 22:36:23,664 --------------------------------------------------------------------------------\n",
            "2021-12-27 22:36:23,667 The model key 'pos' now maps to 'https://huggingface.co/flair/pos-english' on the HuggingFace ModelHub\n",
            "2021-12-27 22:36:23,670  - The most current version of the model is automatically downloaded from there.\n",
            "2021-12-27 22:36:23,673  - (you can alternatively manually download the original model at https://nlp.informatik.hu-berlin.de/resources/models/pos/en-pos-ontonotes-v0.5.pt)\n",
            "2021-12-27 22:36:23,675 --------------------------------------------------------------------------------\n",
            "2021-12-27 22:36:24,015 loading file /root/.flair/models/pos-english/a9a73f6cd878edce8a0fa518db76f441f1cc49c2525b2b4557af278ec2f0659e.121306ea62993d04cd1978398b68396931a39eb47754c8a06a87f325ea70ac63\n"
          ]
        },
        {
          "output_type": "stream",
          "name": "stderr",
          "text": [
            "[nltk_data] Downloading package omw-1.4 to /root/nltk_data...\n",
            "[nltk_data]   Unzipping corpora/omw-1.4.zip.\n"
          ]
        }
      ],
      "source": [
        "from pyswip import Prolog\n",
        "import prolexa.meta_grammar as meta\n",
        "\n",
        "# Added this due to an error with meta\n",
        "import nltk\n",
        "nltk.download('omw-1.4')\n",
        "  \n",
        "\n",
        "pl = Prolog()\n",
        "meta.reset_grammar()\n",
        "meta.initialise_prolexa(pl)"
      ]
    },
    {
      "cell_type": "markdown",
      "metadata": {
        "id": "UsWtwSz2BX9l"
      },
      "source": [
        "### First we add a few rules\n",
        "First the traditional one that works:"
      ]
    },
    {
      "cell_type": "code",
      "execution_count": 4,
      "metadata": {
        "colab": {
          "base_uri": "https://localhost:8080/"
        },
        "id": "J-_HAtkIm19i",
        "outputId": "b6f403cd-c22d-447e-de84-48d4c491295c"
      },
      "outputs": [
        {
          "output_type": "stream",
          "name": "stdout",
          "text": [
            "peter is human; every human is mortal; therefore peter is mortal\n"
          ]
        }
      ],
      "source": [
        "_ = meta.standardised_query(pl, \"peter is human\")[0]['Output']\n",
        "_ = meta.standardised_query(pl, \"every human is mortal\")[0]['Output']\n",
        "\n",
        "print(meta.standardised_query(pl, \"explain why peter is mortal\")[0]['Output'])"
      ]
    },
    {
      "cell_type": "markdown",
      "metadata": {
        "id": "EiMEWXCj64Na"
      },
      "source": [
        "Now using the new prove_rb meta-interpreter:"
      ]
    },
    {
      "cell_type": "code",
      "execution_count": 5,
      "metadata": {
        "id": "XKtt4GNt64Nb",
        "outputId": "ee2a13f0-51f8-4123-b685-cd14389d878b",
        "colab": {
          "base_uri": "https://localhost:8080/"
        }
      },
      "outputs": [
        {
          "output_type": "stream",
          "name": "stdout",
          "text": [
            "donald is happy; every teacher is happy; therefore donald is a teacher\n"
          ]
        }
      ],
      "source": [
        "_ = meta.standardised_query(pl, \"donald is happy\")[0]['Output']\n",
        "_ = meta.standardised_query(pl, \"every teacher is happy\")[0]['Output']\n",
        "\n",
        "print(meta.standardised_query(pl, \"explain why donald is a teacher\")[0]['Output'])"
      ]
    },
    {
      "cell_type": "markdown",
      "source": [
        "Demonstrating that the meta-interpreter doesn't fall into an infinite recursive loop due to the counter:"
      ],
      "metadata": {
        "id": "vftotrM3C5u4"
      }
    },
    {
      "cell_type": "code",
      "source": [
        "print(meta.standardised_query(pl, \"explain why donald is mortal\")[0]['Output'])\n",
        "print(meta.standardised_query(pl, \"explain why peter is a teacher\")[0]['Output'])"
      ],
      "metadata": {
        "id": "9BKu7uy3CnDp",
        "outputId": "c517b26c-b455-4511-8f03-f204ea939e74",
        "colab": {
          "base_uri": "https://localhost:8080/"
        }
      },
      "execution_count": 10,
      "outputs": [
        {
          "output_type": "stream",
          "name": "stdout",
          "text": [
            "Sorry, I don't think this is the case\n",
            "Sorry, I don't think this is the case\n"
          ]
        }
      ]
    },
    {
      "cell_type": "markdown",
      "metadata": {
        "id": "X3QCHvhO64Nb"
      },
      "source": [
        "### Negation\n",
        "We can add a new rule to show that donald actually isn't happy, this shows the remove_conflicting_rules predicate working, as the `happy(donald):-true.` rule is removed."
      ]
    },
    {
      "cell_type": "code",
      "execution_count": 11,
      "metadata": {
        "id": "GcOmuuPE64Nc",
        "outputId": "c9ff094e-6092-47bc-dfc7-a7028df225a3",
        "colab": {
          "base_uri": "https://localhost:8080/"
        }
      },
      "outputs": [
        {
          "output_type": "stream",
          "name": "stdout",
          "text": [
            "peter is human. every human is mortal. every teacher is happy. donald is not happy. donald is not happy\n"
          ]
        }
      ],
      "source": [
        "_ = meta.standardised_query(pl, \"donald is not happy\")[0]['Output']\n",
        "print(meta.standardised_query(pl, \"tell me everything\")[0]['Output'])"
      ]
    },
    {
      "cell_type": "markdown",
      "metadata": {
        "id": "SdPw6jkN64Nc"
      },
      "source": [
        "I have not yet been able to figure out why it is adding two rules to the prolexa plus stored rules, it only adds one to basic prolexa, there is only one assertz in the basic prolog .pl file? \n",
        "\n",
        "The following code cell demonstrates that adding `happy(donald):-true.` removes the `not(happy(donald)):-true.` rules from the stored rules."
      ]
    },
    {
      "cell_type": "code",
      "source": [
        "_ = meta.standardised_query(pl, \"donald is happy\")[0]['Output']\n",
        "print(meta.standardised_query(pl, \"tell me everything\")[0]['Output'])\n",
        "_ = meta.standardised_query(pl, \"donald is not happy\")[0]['Output']"
      ],
      "metadata": {
        "id": "cSqRjPECEZAi",
        "outputId": "2b6b71b4-6454-4e71-ce95-1a36020982b1",
        "colab": {
          "base_uri": "https://localhost:8080/"
        }
      },
      "execution_count": 14,
      "outputs": [
        {
          "output_type": "stream",
          "name": "stdout",
          "text": [
            "peter is human. every human is mortal. every teacher is happy. donald is happy\n"
          ]
        }
      ]
    },
    {
      "cell_type": "markdown",
      "source": [
        "Adding that Donald isn't happy shows that this rule works with \"Who\" and \"Explain\" via the added prove_rb predicates."
      ],
      "metadata": {
        "id": "QzNqscRFEZYc"
      }
    },
    {
      "cell_type": "code",
      "execution_count": 12,
      "metadata": {
        "id": "NybYMt4J64Nc",
        "outputId": "4d3b8c56-18b4-4dd5-89c1-96208fae2072",
        "colab": {
          "base_uri": "https://localhost:8080/"
        }
      },
      "outputs": [
        {
          "output_type": "stream",
          "name": "stdout",
          "text": [
            "b'donald is not a teacher'\n"
          ]
        }
      ],
      "source": [
        "print(meta.standardised_query(pl, \"who is not a teacher\")[0]['Output'])"
      ]
    },
    {
      "cell_type": "code",
      "execution_count": 13,
      "metadata": {
        "id": "l8kALhQh64Nd",
        "outputId": "2244897d-bfcf-4a0f-e379-e874179461a4",
        "colab": {
          "base_uri": "https://localhost:8080/"
        }
      },
      "outputs": [
        {
          "output_type": "stream",
          "name": "stdout",
          "text": [
            "donald is not happy; every teacher is happy; therefore donald is not a teacher\n"
          ]
        }
      ],
      "source": [
        "print(meta.standardised_query(pl, \"explain why donald is not a teacher\")[0]['Output'])"
      ]
    },
    {
      "cell_type": "markdown",
      "metadata": {
        "id": "xZp_HVgo64Nd"
      },
      "source": [
        "### For further testing"
      ]
    },
    {
      "cell_type": "code",
      "execution_count": 9,
      "metadata": {
        "id": "YIQ9Af5p_S1-",
        "outputId": "018893ca-7d2a-4ff3-8af8-dc9cc6134b1c",
        "colab": {
          "base_uri": "https://localhost:8080/"
        }
      },
      "outputs": [
        {
          "output_type": "stream",
          "name": "stdout",
          "text": [
            "tell me about Peter\n",
            "peter is human. peter is mortal\n"
          ]
        }
      ],
      "source": [
        "input = 'tell me about Peter'  #@param {type:\"string\"}\n",
        "print(input)\n",
        "first_answer = meta.standardised_query(pl, input)[0]['Output']\n",
        "print(first_answer)"
      ]
    }
  ],
  "metadata": {
    "colab": {
      "collapsed_sections": [],
      "name": "Prolexa Plus Demo Notebook.ipynb",
      "provenance": [],
      "include_colab_link": true
    },
    "kernelspec": {
      "display_name": "Python 3",
      "name": "python3"
    },
    "language_info": {
      "name": "python"
    }
  },
  "nbformat": 4,
  "nbformat_minor": 0
}