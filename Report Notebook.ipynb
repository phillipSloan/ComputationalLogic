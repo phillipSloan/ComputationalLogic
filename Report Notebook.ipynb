{
  "cells": [
    {
      "cell_type": "markdown",
      "metadata": {
        "id": "view-in-github",
        "colab_type": "text"
      },
      "source": [
        "<a href=\"https://colab.research.google.com/github/phillipSloan/ComputationalLogic/blob/prolexa-plus/Report%20Notebook.ipynb\" target=\"_parent\"><img src=\"https://colab.research.google.com/assets/colab-badge.svg\" alt=\"Open In Colab\"/></a>"
      ]
    },
    {
      "cell_type": "markdown",
      "metadata": {
        "id": "hij-_4uHAzIj"
      },
      "source": [
        "### Install SWI-Prolog\n",
        "\n",
        "Installing non-python dependeincies can be achieved via '!apt-get'"
      ]
    },
    {
      "cell_type": "code",
      "execution_count": 1,
      "metadata": {
        "colab": {
          "base_uri": "https://localhost:8080/"
        },
        "id": "HDY7hKs490UH",
        "outputId": "74469ab8-6fa2-4752-e7f1-74900cfc7d58"
      },
      "outputs": [
        {
          "output_type": "stream",
          "name": "stdout",
          "text": [
            "Extracting templates from packages: 100%\n"
          ]
        }
      ],
      "source": [
        "!apt-get install swi-prolog -qqq > /dev/null"
      ]
    },
    {
      "cell_type": "markdown",
      "metadata": {
        "id": "URGBePflAi8a"
      },
      "source": [
        "### Install Prolexa\n",
        "\n",
        "Install the Prolexa-plus branch directly from Github via pip. Note that once you have forked the Github repo and made changes you will have to change this link to reference your own repo. "
      ]
    },
    {
      "cell_type": "code",
      "execution_count": 2,
      "metadata": {
        "colab": {
          "base_uri": "https://localhost:8080/"
        },
        "id": "LGMiAYLm77DC",
        "outputId": "f3baa195-5861-417c-a752-8ddb86458ec8"
      },
      "outputs": [
        {
          "output_type": "stream",
          "name": "stdout",
          "text": [
            "\u001b[31m  ERROR: Failed building wheel for prolexa\u001b[0m\n",
            "\u001b[33m  DEPRECATION: prolexa was installed using the legacy 'setup.py install' method, because a wheel could not be built for it. A possible replacement is to fix the wheel build issue reported above. You can find discussion regarding this at https://github.com/pypa/pip/issues/8368.\u001b[0m\n",
            "\u001b[31mERROR: pip's dependency resolver does not currently take into account all the packages that are installed. This behaviour is the source of the following dependency conflicts.\n",
            "markdown 3.3.6 requires importlib-metadata>=4.4; python_version < \"3.10\", but you have importlib-metadata 3.10.1 which is incompatible.\n",
            "google-colab 1.0.0 requires requests~=2.23.0, but you have requests 2.27.1 which is incompatible.\n",
            "datascience 0.10.6 requires folium==0.2.1, but you have folium 0.8.3 which is incompatible.\u001b[0m\n"
          ]
        }
      ],
      "source": [
        "!yes | pip install git+https://github.com/phillipSloan/ComputationalLogic/ -qqq > /dev/null"
      ]
    },
    {
      "cell_type": "markdown",
      "metadata": {
        "id": "4Q1TuvlXBFpA"
      },
      "source": [
        "### Instantiate Prolexa \n"
      ]
    },
    {
      "cell_type": "code",
      "execution_count": 3,
      "metadata": {
        "colab": {
          "base_uri": "https://localhost:8080/"
        },
        "id": "un81VxmqzUMx",
        "outputId": "71d46c89-f6a7-43be-cf1d-dd28184b7d85"
      },
      "outputs": [
        {
          "output_type": "stream",
          "name": "stdout",
          "text": [
            "2022-01-06 09:46:57,296 --------------------------------------------------------------------------------\n",
            "2022-01-06 09:46:57,301 The model key 'pos' now maps to 'https://huggingface.co/flair/pos-english' on the HuggingFace ModelHub\n",
            "2022-01-06 09:46:57,302  - The most current version of the model is automatically downloaded from there.\n",
            "2022-01-06 09:46:57,306  - (you can alternatively manually download the original model at https://nlp.informatik.hu-berlin.de/resources/models/pos/en-pos-ontonotes-v0.5.pt)\n",
            "2022-01-06 09:46:57,310 --------------------------------------------------------------------------------\n",
            "2022-01-06 09:46:57,358 loading file /root/.flair/models/pos-english/a9a73f6cd878edce8a0fa518db76f441f1cc49c2525b2b4557af278ec2f0659e.121306ea62993d04cd1978398b68396931a39eb47754c8a06a87f325ea70ac63\n"
          ]
        },
        {
          "output_type": "stream",
          "name": "stderr",
          "text": [
            "[nltk_data] Downloading package omw-1.4 to /root/nltk_data...\n",
            "[nltk_data]   Unzipping corpora/omw-1.4.zip.\n"
          ]
        }
      ],
      "source": [
        "from pyswip import Prolog\n",
        "import prolexa.meta_grammar as meta\n",
        "\n",
        "# Added this due to an error with meta\n",
        "import nltk\n",
        "nltk.download('omw-1.4')\n",
        "  \n",
        "\n",
        "pl = Prolog()\n",
        "meta.reset_grammar()\n",
        "meta.initialise_prolexa(pl)"
      ]
    },
    {
      "cell_type": "markdown",
      "metadata": {
        "id": "UsWtwSz2BX9l"
      },
      "source": [
        "### First we add a few rules\n",
        "First check the traditional one that works:"
      ]
    },
    {
      "cell_type": "code",
      "execution_count": 8,
      "metadata": {
        "colab": {
          "base_uri": "https://localhost:8080/"
        },
        "id": "J-_HAtkIm19i",
        "outputId": "cafbd2a8-4a34-4f68-e796-4377ff448d8a"
      },
      "outputs": [
        {
          "output_type": "stream",
          "name": "stdout",
          "text": [
            "b'I am a blank slate'\n"
          ]
        }
      ],
      "source": [
        "print(meta.standardised_query(pl, \"spill the beans\")[0]['Output'])\n",
        "\n",
        "print(meta.standardised_query(pl, \"peter is human\")[0]['Output'])\n",
        "print(meta.standardised_query(pl, \"every human is mortal\")[0]['Output'])\n",
        "\n",
        "print(meta.standardised_query(pl, \"explain why peter is mortal\")[0]['Output'])"
      ]
    },
    {
      "cell_type": "markdown",
      "metadata": {
        "id": "X3QCHvhO64Nb"
      },
      "source": [
        "### Negation\n",
        "We add a stored rule to show that donald is happy.\n",
        "\n"
      ]
    },
    {
      "cell_type": "code",
      "execution_count": null,
      "metadata": {
        "id": "GcOmuuPE64Nc",
        "outputId": "fe8df7c8-8d60-4d91-e8c9-487de4b35506",
        "colab": {
          "base_uri": "https://localhost:8080/"
        }
      },
      "outputs": [
        {
          "output_type": "stream",
          "name": "stdout",
          "text": [
            "peter is human. every human is mortal. donald is happy\n"
          ]
        }
      ],
      "source": [
        "print(meta.standardised_query(pl, \"donald is happy\")[0]['Output'])\n",
        "print(meta.standardised_query(pl, \"tell me everything\")[0]['Output'])"
      ]
    },
    {
      "cell_type": "markdown",
      "metadata": {
        "id": "SdPw6jkN64Nc"
      },
      "source": [
        " We now add a rule stating that Donald isn't happy which shows our implementation of negation implementing the stored rule `not(happy(donald)):-true.`.\n",
        "\n",
        "It also demonstrates the remove_conflicting_rules predicate working, as the previous happy rule rule is removed."
      ]
    },
    {
      "cell_type": "code",
      "source": [
        "print(meta.standardised_query(pl, \"donald is not happy\")[0]['Output'])\n",
        "print(meta.standardised_query(pl, \"tell me everything\")[0]['Output'])"
      ],
      "metadata": {
        "id": "cSqRjPECEZAi",
        "outputId": "94da1bab-0d9b-4f59-dc1e-e18845c5dc9a",
        "colab": {
          "base_uri": "https://localhost:8080/"
        }
      },
      "execution_count": null,
      "outputs": [
        {
          "output_type": "stream",
          "name": "stdout",
          "text": [
            "peter is human. every human is mortal. donald is not happy. donald is not happy\n"
          ]
        }
      ]
    },
    {
      "cell_type": "markdown",
      "source": [
        "For some reason, prolexa plus adds negated stored rules twice. We have not been able to identify why this is the case at this time, this behavior does not happen in standard prolexa.\n",
        "\n",
        "Adding `happy(X):-teacher(X)` and then using \"explain\" to demonstrate the working negated prove_rb meta-interpreter."
      ],
      "metadata": {
        "id": "QzNqscRFEZYc"
      }
    },
    {
      "cell_type": "code",
      "execution_count": null,
      "metadata": {
        "id": "l8kALhQh64Nd",
        "outputId": "204480ed-7ccf-4cda-f9f8-a930866d58f6",
        "colab": {
          "base_uri": "https://localhost:8080/"
        }
      },
      "outputs": [
        {
          "output_type": "stream",
          "name": "stdout",
          "text": [
            "donald is not happy; every teacher is happy; therefore donald is not teacher\n"
          ]
        }
      ],
      "source": [
        "print(meta.standardised_query(pl, \"every teacher is happy\")[0]['Output'])\n",
        "print(meta.standardised_query(pl, \"explain why donald is not a teacher\")[0]['Output'])"
      ]
    },
    {
      "cell_type": "markdown",
      "source": [
        "Final two demonstrate the negation working in Prolexa with the questions \"Who and \"Is\" "
      ],
      "metadata": {
        "id": "GeZljEa7GKWQ"
      }
    },
    {
      "cell_type": "code",
      "source": [
        "print(meta.standardised_query(pl, \"who is not a teacher\")[0]['Output'])\n",
        "print(meta.standardised_query(pl, \"is donald not a teacher\")[0]['Output'])"
      ],
      "metadata": {
        "id": "hChvOvNJGMKH",
        "outputId": "833816c6-7585-4b6d-c5e7-e92fa7357ee9",
        "colab": {
          "base_uri": "https://localhost:8080/"
        }
      },
      "execution_count": null,
      "outputs": [
        {
          "output_type": "stream",
          "name": "stdout",
          "text": [
            "b'donald is not teacher'\n",
            "b'donald is not teacher'\n"
          ]
        }
      ]
    },
    {
      "cell_type": "markdown",
      "source": [
        "Interesting point, the meta-interpreter disproves incorrect facts, it doesn't try to explain why donald is a teacher though."
      ],
      "metadata": {
        "id": "PLpfKSF8GY-u"
      }
    },
    {
      "cell_type": "code",
      "source": [
        "print(meta.standardised_query(pl, \"is donald a teacher\")[0]['Output'])\n",
        "print(meta.standardised_query(pl, \"explain why donald is a teacher\")[0]['Output'])"
      ],
      "metadata": {
        "id": "zQE-vapUGXgo",
        "outputId": "f5eada59-d970-4d54-fab2-3dfc131d2d03",
        "colab": {
          "base_uri": "https://localhost:8080/"
        }
      },
      "execution_count": null,
      "outputs": [
        {
          "output_type": "stream",
          "name": "stdout",
          "text": [
            "b'donald is not teacher'\n",
            "Sorry, I don't think this is the case\n"
          ]
        }
      ]
    },
    {
      "cell_type": "markdown",
      "metadata": {
        "id": "xZp_HVgo64Nd"
      },
      "source": [
        "### For further testing"
      ]
    },
    {
      "cell_type": "code",
      "execution_count": null,
      "metadata": {
        "id": "YIQ9Af5p_S1-",
        "outputId": "d298973f-219f-49cc-a81e-5737ebd0c8e3",
        "colab": {
          "base_uri": "https://localhost:8080/"
        }
      },
      "outputs": [
        {
          "output_type": "stream",
          "name": "stdout",
          "text": [
            "tell me everything you know\n",
            "peter is human. every human is mortal. donald is not happy. donald is not happy. every teacher is happy\n"
          ]
        }
      ],
      "source": [
        "input = ''  #@param {type:\"string\"}\n",
        "print(input)\n",
        "first_answer = meta.standardised_query(pl, input)[0]['Output']\n",
        "print(first_answer)"
      ]
    },
    {
      "cell_type": "code",
      "source": [
        ""
      ],
      "metadata": {
        "id": "P0et0aTkLGOt"
      },
      "execution_count": null,
      "outputs": []
    }
  ],
  "metadata": {
    "colab": {
      "collapsed_sections": [],
      "name": "Prolexa Plus Demo Notebook.ipynb",
      "provenance": [],
      "include_colab_link": true
    },
    "kernelspec": {
      "display_name": "Python 3",
      "name": "python3"
    },
    "language_info": {
      "name": "python"
    }
  },
  "nbformat": 4,
  "nbformat_minor": 0
}