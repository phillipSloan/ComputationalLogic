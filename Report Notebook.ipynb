{
  "cells": [
    {
      "cell_type": "markdown",
      "metadata": {
        "id": "view-in-github",
        "colab_type": "text"
      },
      "source": [
        "<a href=\"https://colab.research.google.com/github/phillipSloan/ComputationalLogic/blob/prolexa-plus/Report%20Notebook.ipynb\" target=\"_parent\"><img src=\"https://colab.research.google.com/assets/colab-badge.svg\" alt=\"Open In Colab\"/></a>"
      ]
    },
    {
      "cell_type": "markdown",
      "metadata": {
        "id": "hij-_4uHAzIj"
      },
      "source": [
        "### Install SWI-Prolog\n",
        "\n",
        "Installing non-python dependeincies can be achieved via '!apt-get'"
      ]
    },
    {
      "cell_type": "code",
      "execution_count": null,
      "metadata": {
        "colab": {
          "base_uri": "https://localhost:8080/"
        },
        "id": "HDY7hKs490UH",
        "outputId": "52e947d8-f571-406f-f97d-457ec077a85c"
      },
      "outputs": [
        {
          "name": "stdout",
          "output_type": "stream",
          "text": [
            "Extracting templates from packages: 100%\n"
          ]
        }
      ],
      "source": [
        "!apt-get install swi-prolog -qqq > /dev/null"
      ]
    },
    {
      "cell_type": "markdown",
      "metadata": {
        "id": "URGBePflAi8a"
      },
      "source": [
        "### Install Prolexa\n",
        "\n",
        "Install the Prolexa-plus branch directly from Github via pip. Note that once you have forked the Github repo and made changes you will have to change this link to reference your own repo. "
      ]
    },
    {
      "cell_type": "code",
      "execution_count": null,
      "metadata": {
        "colab": {
          "base_uri": "https://localhost:8080/"
        },
        "id": "LGMiAYLm77DC",
        "outputId": "66f431a2-3c4b-4735-c898-b54bda8eeaaa"
      },
      "outputs": [
        {
          "name": "stdout",
          "output_type": "stream",
          "text": [
            "\u001b[31m  ERROR: Failed building wheel for prolexa\u001b[0m\n",
            "\u001b[33m  DEPRECATION: prolexa was installed using the legacy 'setup.py install' method, because a wheel could not be built for it. A possible replacement is to fix the wheel build issue reported above. You can find discussion regarding this at https://github.com/pypa/pip/issues/8368.\u001b[0m\n",
            "\u001b[31mERROR: pip's dependency resolver does not currently take into account all the packages that are installed. This behaviour is the source of the following dependency conflicts.\n",
            "google-colab 1.0.0 requires requests~=2.23.0, but you have requests 2.26.0 which is incompatible.\n",
            "datascience 0.10.6 requires folium==0.2.1, but you have folium 0.8.3 which is incompatible.\u001b[0m\n"
          ]
        }
      ],
      "source": [
        "!yes | pip install git+https://github.com/phillipSloan/ComputationalLogic/ -qqq > /dev/null"
      ]
    },
    {
      "cell_type": "markdown",
      "metadata": {
        "id": "4Q1TuvlXBFpA"
      },
      "source": [
        "### Instantiate Prolexa \n"
      ]
    },
    {
      "cell_type": "code",
      "execution_count": null,
      "metadata": {
        "colab": {
          "base_uri": "https://localhost:8080/"
        },
        "id": "un81VxmqzUMx",
        "outputId": "77fe5b08-4c5f-4954-83b8-132d31ae5a50"
      },
      "outputs": [
        {
          "name": "stdout",
          "output_type": "stream",
          "text": [
            "2021-10-06 08:50:29,323 --------------------------------------------------------------------------------\n",
            "2021-10-06 08:50:29,324 The model key 'pos' now maps to 'https://huggingface.co/flair/pos-english' on the HuggingFace ModelHub\n",
            "2021-10-06 08:50:29,332  - The most current version of the model is automatically downloaded from there.\n",
            "2021-10-06 08:50:29,334  - (you can alternatively manually download the original model at https://nlp.informatik.hu-berlin.de/resources/models/pos/en-pos-ontonotes-v0.5.pt)\n",
            "2021-10-06 08:50:29,336 --------------------------------------------------------------------------------\n",
            "2021-10-06 08:50:29,406 loading file /root/.flair/models/pos-english/a9a73f6cd878edce8a0fa518db76f441f1cc49c2525b2b4557af278ec2f0659e.121306ea62993d04cd1978398b68396931a39eb47754c8a06a87f325ea70ac63\n"
          ]
        }
      ],
      "source": [
        "from pyswip import Prolog\n",
        "import prolexa.meta_grammar as meta\n",
        "\n",
        "# Added this due to an error with meta\n",
        "import nltk\n",
        "nltk.download('omw-1.4')\n",
        "  \n",
        "\n",
        "pl = Prolog()\n",
        "meta.reset_grammar()\n",
        "meta.initialise_prolexa(pl)"
      ]
    },
    {
      "cell_type": "markdown",
      "metadata": {
        "id": "UsWtwSz2BX9l"
      },
      "source": [
        "### First we add a few rules\n",
        "First the traditional one that works:"
      ]
    },
    {
      "cell_type": "code",
      "execution_count": null,
      "metadata": {
        "colab": {
          "base_uri": "https://localhost:8080/"
        },
        "id": "J-_HAtkIm19i",
        "outputId": "724c7f39-2d9a-472e-f8b6-1f3a3d70a0df"
      },
      "outputs": [
        {
          "name": "stdout",
          "output_type": "stream",
          "text": [
            "Hello! I'm ProlexaPlus! Tell me anything, ask me anything.\n",
            "tell me about Peter\n",
            "peter is human. peter is mortal. peter is a professor. peter is a teacher\n"
          ]
        }
      ],
      "source": [
        "_ = meta.standardised_query(pl, \"peter is human\")[0]['Output']\n",
        "_ = meta.standardised_query(pl, \"every human is mortal\")[0]['Output']\n",
        "\n",
        "print(meta.standardised_query(pl, \"explain why peter is mortal\")[0]['Output'])"
      ]
    },
    {
      "cell_type": "markdown",
      "metadata": {
        "id": "EiMEWXCj64Na"
      },
      "source": [
        "Now using the new prove_rb meta-interpreter:"
      ]
    },
    {
      "cell_type": "code",
      "execution_count": null,
      "metadata": {
        "id": "XKtt4GNt64Nb"
      },
      "outputs": [],
      "source": [
        "_ = meta.standardised_query(pl, \"donald is happy\")[0]['Output']\n",
        "_ = meta.standardised_query(pl, \"every teacher is happy\")[0]['Output']\n",
        "\n",
        "print(meta.standardised_query(pl, \"explain why donald is a teacher\")[0]['Output'])"
      ]
    },
    {
      "cell_type": "markdown",
      "metadata": {
        "id": "X3QCHvhO64Nb"
      },
      "source": [
        "### Negation\n",
        "Swapping the rule:"
      ]
    },
    {
      "cell_type": "code",
      "execution_count": null,
      "metadata": {
        "id": "GcOmuuPE64Nc"
      },
      "outputs": [],
      "source": [
        "_ = meta.standardised_query(pl, \"donald is not happy\")[0]['Output']\n",
        "print(meta.standardised_query(pl, \"tell me everything\")[0]['Output'])"
      ]
    },
    {
      "cell_type": "markdown",
      "metadata": {
        "id": "SdPw6jkN64Nc"
      },
      "source": [
        "Showing it works with \"Who\" and \"Explain\""
      ]
    },
    {
      "cell_type": "code",
      "execution_count": null,
      "metadata": {
        "id": "NybYMt4J64Nc"
      },
      "outputs": [],
      "source": [
        "print(meta.standardised_query(pl, \"who is not a teacher\")[0]['Output'])"
      ]
    },
    {
      "cell_type": "code",
      "execution_count": null,
      "metadata": {
        "id": "l8kALhQh64Nd"
      },
      "outputs": [],
      "source": [
        "print(meta.standardised_query(pl, \"explain why donald is not a teacher\")[0]['Output'])"
      ]
    },
    {
      "cell_type": "markdown",
      "metadata": {
        "id": "xZp_HVgo64Nd"
      },
      "source": [
        "### For you to mess around with"
      ]
    },
    {
      "cell_type": "code",
      "execution_count": null,
      "metadata": {
        "id": "YIQ9Af5p_S1-"
      },
      "outputs": [],
      "source": [
        "input = 'tell me about Peter'  #@param {type:\"string\"}\n",
        "print(input)\n",
        "first_answer = meta.standardised_query(pl, input)[0]['Output']\n",
        "print(first_answer)"
      ]
    }
  ],
  "metadata": {
    "colab": {
      "collapsed_sections": [],
      "name": "Prolexa Plus Demo Notebook.ipynb",
      "provenance": [],
      "include_colab_link": true
    },
    "kernelspec": {
      "display_name": "Python 3",
      "name": "python3"
    },
    "language_info": {
      "name": "python"
    }
  },
  "nbformat": 4,
  "nbformat_minor": 0
}