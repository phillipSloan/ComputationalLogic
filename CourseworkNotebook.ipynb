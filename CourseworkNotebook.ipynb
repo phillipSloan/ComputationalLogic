{
  "cells": [
    {
      "cell_type": "markdown",
      "source": [
        "# Report for COMSM0022 Computational Logic for Artificial Intelligence (2021)\n",
        "\n",
        "## created by [Phillip Sloan](https://gibhub.com/phillipSloan) and [Jonathan Erskine](https://github.com/jmerskine1)\n",
        "\n",
        "### Introduction\n",
        "In this coursework we attempt to extend the reasoning capabilities of Prolexa to include negation.\n",
        "\n",
        "This report demonstrates our approach to the assignment, walking through how we implemented negation and other command line code. It seeks to explain our thought process, which was wrong at certain points, causing unwanted proofs from the meta-interpreter. There are several additions to the default prolexa code detailed in the report, with notebook cells demonstrating implementation and operation."
      ],
      "metadata": {
        "id": "KtUW0jShQvK9"
      }
    },
    {
      "cell_type": "markdown",
      "source": [
        "\n",
        "### Instantiation of Prolexa for Notebook Demonstration"
      ],
      "metadata": {
        "id": "WrHsTd2FTSBo"
      }
    },
    {
      "cell_type": "code",
      "source": [
        "!apt-get install swi-prolog -qqq > /dev/null"
      ],
      "metadata": {
        "id": "NM4wLUtfR_rC"
      },
      "execution_count": 48,
      "outputs": []
    },
    {
      "cell_type": "code",
      "execution_count": 49,
      "metadata": {
        "id": "HDY7hKs490UH"
      },
      "outputs": [],
      "source": [
        "!apt-get install swi-prolog -qqq > /dev/null\n",
        "!yes | pip install git+https://github.com/phillipSloan/ComputationalLogic/ -qqq > /dev/null\n",
        "\n",
        "from pyswip import Prolog\n",
        "import prolexa.meta_grammar as meta\n",
        "\n",
        "# Added this due to an error with meta\n",
        "import nltk\n",
        "nltk.download('omw-1.4')\n",
        "  \n",
        "\n",
        "pl = Prolog()\n",
        "meta.reset_grammar()\n",
        "meta.initialise_prolexa(pl)\n",
        "\n",
        "# clearing the output to keep it tidy\n",
        "from IPython.display import clear_output \n",
        "clear_output()"
      ]
    },
    {
      "cell_type": "markdown",
      "source": [
        "\n",
        "### Negation\n",
        "\n",
        "In it's current state, Prolexa cannot handle negation semantically, or in terms of reasoning e.g. given a statement \"Tweety does not fly\" or \"Tweety is not a bird\", Prolexa will fail to interpret the natural language of the query due to the unknown effects of \"not\" within sentence structure, and it cannot associate \"not\" with any meaning regarding a clause or set of clauses.\n"
      ],
      "metadata": {
        "id": "1o4x9RUoS5bZ"
      }
    },
    {
      "cell_type": "markdown",
      "source": [
        "\n",
        "\n",
        "**Grammar**\n",
        "\n",
        "To implement negation grammatically we have to modify prolexa_grammar.pl to define a \"not\" operator, (taken from Simply Logical 8.1) and to include negated verb phrases:\n",
        "```julia\n",
        ":-op(900,fy,not).\n",
        "\n",
        "verb_phrase(s,not(M)) --> [is],[not],property(s,M).\n",
        "verb_phrase(s,not(M)) --> [not],property(s,M).\n",
        "```\n",
        "Introducing \"not(M)\" into the verb_phrase requires us to extend our definition of sentence1 to include negative cases:\n",
        "```julia\n",
        "sentence1([(H:-not(B))]) --> determiner(N,M1,M2,[(H:-B)]),noun(N,M1),verb_phrase(N,not(M2)).\n",
        "```\n",
        "This implements a special case where, if the verb phrase is negative, we pass the negative rule but borrow the standard determiner from the positive case. The modification is more straight forward for proper nouns:\n",
        "```julia\n",
        "sentence1([(not(L):-true)]) --> proper_noun(N,X),verb_phrase(N,not(X=>L)).\n",
        "```\n",
        "\n",
        "Here we have only dealt with the singular case, so negated phrases like \"All teachers are not happy\" aren't currently handled by Prolog - this can be replaced with \"Every teacher is not happy\" so we will not attempt to extend the grammar for the purposes of this demonstration. \n",
        "\n",
        "Finally, we need to extend the question interpreter to understand \"not\" within a query:\n",
        "```julia\n",
        "question1(not(Q)) --> [who],verb_phrase(s,not(_X=>Q)).\n",
        "question1(not(Q)) --> [is],proper_noun(N,X),verb_phrase(N,not(X=>Q)).\n",
        "```"
      ],
      "metadata": {
        "id": "rMt-TlkLT5jb"
      }
    },
    {
      "cell_type": "markdown",
      "source": [
        "---\n",
        "<font color='red'>Demonstration</font>: *Understanding negated phrases*"
      ],
      "metadata": {
        "id": "I6gzXz3Bajlm"
      }
    },
    {
      "cell_type": "code",
      "source": [
        "print(meta.standardised_query(pl, \"donald is not happy\")[0]['Output'])\n",
        "print(meta.standardised_query(pl, \"every teacher is not immortal\")[0]['Output'])\n",
        "\n",
        "print(meta.standardised_query(pl, \"spill the beans\")[0]['Output'])"
      ],
      "metadata": {
        "colab": {
          "base_uri": "https://localhost:8080/"
        },
        "id": "MhN979NJa4a0",
        "outputId": "3a3bcd96-e713-4ce2-9b2f-bd36a83e7f53"
      },
      "execution_count": 50,
      "outputs": [
        {
          "output_type": "stream",
          "name": "stdout",
          "text": [
            "I already knew that donald is not happy\n",
            "I will remember that every teacher is not immortal\n",
            "every teacher is happy. donald is not happy. donald is not happy. every teacher is not immortal. every teacher is not immortal\n"
          ]
        }
      ]
    },
    {
      "cell_type": "markdown",
      "source": [
        "Note the **duplication of negated rules**. This isn't replicable in standard prolog and we were unable to troubleshoot the issue. However, the following code proves correct handling of rules, and performance does not seem to be affected.\n",
        "\n",
        "---"
      ],
      "metadata": {
        "id": "bnl0ogT5dqMP"
      }
    },
    {
      "cell_type": "markdown",
      "source": [
        "\n",
        "\n",
        "**Reasoning**\n",
        "\n",
        "We can now handle phrases like \"Donald is not happy\" and \"Every teacher is not happy\", but they have no bearing with respect to reasoning. This can be observed if we input some conflicting information:\n",
        "\n",
        "```\n",
        "user: \"tell me everything\".\n",
        "prolexa: I know nothing\n",
        "\n",
        "user: \"donald is happy\".\n",
        "prolexa: I will remember that donald is happy\n",
        "\n",
        "user: \"donald is not happy\".\n",
        "prolexa: I will remember that donald is not happy\n",
        "\n",
        "user: \"tell me everything\".\n",
        "prolexa: donald is happy. donald is not happy\n",
        "```\n",
        "Prolexa cannot recognise the confliction between donald being happy and unhappy (\"not happy\") at the same time. To enable this we need to apply a function which takes a rule and searches the current rulebase to remove any which are in direct conflict. The following is added to prolexa_engine.pl :\n",
        "```julia\n",
        "remove_conflicting_rules([Head:-Body]):-\n",
        "\t(conflicting_not_rules(Head:-Body)\n",
        "\t; retractall(prolexa:stored_rule(_,[(not(Head):-Body)])),\n",
        "\t     retractall(prolexa:stored_rule(_,[(Head:-not(Body))])) ).\n",
        "\n",
        "conflicting_not_rules(not(Head):-Body):-\n",
        "\tretractall(prolexa:stored_rule(_,[(Head:-Body)])).\n",
        "\n",
        "conflicting_not_rules(Head:-not(Body)):-\n",
        "\tretractall(prolexa:stored_rule(_,[(Head:-Body)])).\n",
        "```\n",
        "This function is called from prolexa.pl when a new rule is added.\n",
        "```\n",
        "% A. Utterance is a sentence\n",
        "\t( phrase(sentence(Rule),UtteranceList),\n",
        "\t  write_debug(rule(Rule)),\n",
        "\t  ( known_rule(Rule,SessionId) -> % A1. It follows from known rules\n",
        "\t\t\tatomic_list_concat(['I already knew that',Utterance],' ',Answer)\n",
        "\t  ; otherwise -> % A2. It doesn't follow, so add to stored rules\n",
        "```\n",
        "```julia\n",
        "\t\t        remove_conflicting_rules(Rule),\n",
        "```\n",
        "```\n",
        "\t\t\tassertz(prolexa:stored_rule(SessionId,Rule)),\n",
        "\t\t\tatomic_list_concat(['I will remember that',Utterance],' ',Answer)\n",
        "\t  )\n",
        "```\n"
      ],
      "metadata": {
        "id": "6Ce2GX92RwwG"
      }
    },
    {
      "cell_type": "markdown",
      "source": [
        "---\n",
        "<font color='red'>Demonstration</font>: *Removing Conflicting Rules*"
      ],
      "metadata": {
        "id": "U3_cMRcYXWQa"
      }
    },
    {
      "cell_type": "code",
      "source": [
        "print('Establish Rulebase:')\n",
        "print(meta.standardised_query(pl, \"forget everything\")[0]['Output'])\n",
        "print(meta.standardised_query(pl, \"donald is not happy\")[0]['Output'])\n",
        "print(meta.standardised_query(pl, \"every teacher is immortal\")[0]['Output'])\n",
        "print(meta.standardised_query(pl, \"spill the beans\")[0]['Output'])\n",
        "\n",
        "print('\\n Overwrite current rules with conflicting rules:')\n",
        "print(meta.standardised_query(pl, \"donald is happy\")[0]['Output'])\n",
        "print(meta.standardised_query(pl, \"every teacher is not immortal\")[0]['Output'])\n",
        "print(meta.standardised_query(pl, \"spill the beans\")[0]['Output'])"
      ],
      "metadata": {
        "colab": {
          "base_uri": "https://localhost:8080/"
        },
        "id": "JY7mMKeTXqUE",
        "outputId": "0c2a9b4c-8fd2-42e5-f7c7-1ec3feb52f1c"
      },
      "execution_count": 51,
      "outputs": [
        {
          "output_type": "stream",
          "name": "stdout",
          "text": [
            "Establish Rulebase:\n",
            "b'I am a blank slate'\n",
            "I will remember that donald is not happy\n",
            "I will remember that every teacher is immortal\n",
            "donald is not happy. donald is not happy. every teacher is immortal\n",
            "\n",
            " Overwrite current rules with conflicting rules:\n",
            "I will remember that donald is happy\n",
            "I will remember that every teacher is not immortal\n",
            "donald is happy. every teacher is not immortal. every teacher is not immortal\n"
          ]
        }
      ]
    },
    {
      "cell_type": "markdown",
      "source": [
        "---\n",
        "\n",
        "Prolexa can now properly store and remove rules by considering new, conflicting information, but we can still not infer answers to negated questions from positive literals, or vice versa. For example:\n",
        "```\n",
        "user: \"donald is not happy\".\n",
        "prolexa: I will remember that donald is not happy\n",
        "\n",
        "user: \"is donald happy\"\n",
        "prolexa: Sorry, I don't think this is the case\n",
        "```\n",
        "and \n",
        "```\n",
        "user: \"donald is happy\".\n",
        "prolexa: I will remember that donald is not happy\n",
        "\n",
        "user: \"is donald not happy\"\n",
        "prolexa: Sorry, I don't think this is the case\n",
        "```\n",
        "The question answering engine will attempt to prove the query, and if it cannot will provide a response indicating that the answer is not found in the knowledge base (\"Sorry, I don't...\"). \n",
        "\n",
        "However, in this case, clearly \"Is donald happy?\" should have an answer as we know that Donald is not happy. To remedy this, we add an extra step in the question answering process to check if the negative of a query can be proven. \n",
        "\n",
        "This requires modification of prove_question/2, prove_question/3 and explain_question to duplicate the first check but with the negative version of the query.\n",
        "\n",
        "```\n",
        "%%% Main question-answering engine adapted from nl_shell.pl %%%\n",
        "\n",
        "prove_question(Query,SessionId,Answer):-\n",
        "    findall(R,prolexa:stored_rule(SessionId,R),Rulebase),\n",
        "    ( prove_rb(Query,Rulebase) ->\n",
        "        transform(Query,Clauses),\n",
        "        phrase(sentence(Clauses),AnswerAtomList),\n",
        "        atomics_to_string(AnswerAtomList,\" \",Answer)\n",
        "```\n",
        "```julia\n",
        "    ; prove_rb(not Query,Rulebase) ->\n",
        "        transform(not Query,Clauses),\n",
        "        phrase(sentence(Clauses),AnswerAtomList),\n",
        "        atomics_to_string(AnswerAtomList,\" \",Answer)\n",
        "```\n",
        "```\n",
        "    ; Answer = 'Sorry, I don\\'t think this is the case'\n",
        "    ).\n",
        "    \n",
        "% two-argument version that can be used in maplist/3 (see all_answers/2)\n",
        "prove_question(Query,Answer):-\n",
        "\tfindall(R,prolexa:stored_rule(_SessionId,R),Rulebase),\n",
        "\t( prove_rb(Query,Rulebase) ->\n",
        "\t\ttransform(Query,Clauses),\n",
        "\t\tphrase(sentence(Clauses),AnswerAtomList),\n",
        "\t\tatomics_to_string(AnswerAtomList,\" \",Answer)\n",
        "```\n",
        "```julia\n",
        "\t; prove_rb(not Query,Rulebase) ->\n",
        "\t\t\ttransform(not Query,Clauses),\n",
        "\t\t\tphrase(sentence(Clauses),AnswerAtomList),\n",
        "\t\t\tatomics_to_string(AnswerAtomList,\" \",Answer)\n",
        "```\n",
        "```\n",
        "\t; Answer = \"\"\n",
        "\t).\n",
        "\n",
        "\n",
        "%%% Extended version of prove_question/3 that constructs a proof tree %%%\n",
        "explain_question(Query,SessionId,Answer):-\n",
        "\tfindall(R,prolexa:stored_rule(SessionId,R),Rulebase),\n",
        "\t( prove_rb(Query,Rulebase,[],Proof) ->\n",
        "\t\tmaplist(pstep2message,Proof,Msg),\n",
        "\t\tphrase(sentence1([(Query:-true)]),L),\n",
        "\t\tatomic_list_concat([therefore|L],\" \",Last),\n",
        "\t\tappend(Msg,[Last],Messages),\n",
        "\t\tatomic_list_concat(Messages,\"; \",Answer)\n",
        "```\n",
        "```julia\n",
        "\t; prove_rb(not(Query),Rulebase,[],Proof) ->\n",
        "\t\tmaplist(pstep2message,Proof,Msg),\n",
        "\t\tphrase(sentence1([(not(Query):-true)]),L),\n",
        "\t\tatomic_list_concat([therefore|L],\" \",Last),\n",
        "\t\tappend(Msg,[Last],Messages),\n",
        "\t\tatomic_list_concat(Messages,\" ; \",Answer)\n",
        "```\n",
        "```\n",
        "\t; Answer = 'Sorry, I don\\'t think this is the case'\n",
        "\t).\n",
        "\n",
        "```"
      ],
      "metadata": {
        "id": "6JMwvuATXkKe"
      }
    },
    {
      "cell_type": "markdown",
      "source": [
        "Prolog can now handle our first example with a correct answer:\n",
        "```\n",
        "user: \"tell me everything\".\n",
        "prolexa: donald is not happy\n",
        "\n",
        "user:  \"is donald happy\".\n",
        "prolexa: donald is not happy\n",
        "```\n",
        "However, the second example still fails:\n",
        "```\n",
        "user: \"tell me everything\".\n",
        "prolexa: donald is happy\n",
        "\n",
        "user:  \"is donald not happy\".\n",
        "prolexa: Sorry, I don't think this is the case\n",
        "```\n",
        "Investigating the issue, it becomes apparent that this type of question passes double negative queries to prolexa's question answering engine, so we need to extend the meta-interpreter to understand that \n",
        "\n",
        "> not(not(A)) --> A\n",
        "\n",
        "We add the following to prove_rb:\n",
        "```\n",
        "%for double negatives\n",
        "prove_rb(not(not(A)),Rulebase,P0,P):-\n",
        "  find_clause((A:-B),Rule,Rulebase),\n",
        "\tprove_rb(B,Rulebase,[p(A,Rule)|P0],P).\n",
        "```\n",
        "Prolog can now reason with double negatives, but we need to adapt the transform predicate to simplify double negatives to positives for answer generation:\n",
        "```\n",
        "% transform instantiated, possibly conjunctive, query to list of clauses\n",
        "transform((A,B),[(A:-true)|Rest]):-!,\n",
        "    transform(B,Rest).\n",
        "transform(not(not(A)),B):-!,\n",
        "\ttransform(A,B).\n",
        "transform(A,[(A:-true)]).\n",
        "```"
      ],
      "metadata": {
        "id": "V4LMQhXJaMpa"
      }
    },
    {
      "cell_type": "markdown",
      "source": [
        "---\n",
        "<font color='red'>Demonstration</font>: **Inferring answers to negated queries from positive literals (and vice versa)*"
      ],
      "metadata": {
        "id": "kZIqXnQuZh-w"
      }
    },
    {
      "cell_type": "code",
      "source": [
        "print(meta.standardised_query(pl, \"forget everything\")[0]['Output'])\n",
        "print(meta.standardised_query(pl, \"donald is happy\")[0]['Output'])\n",
        "print(meta.standardised_query(pl, \"tell me everything\")[0]['Output'])\n",
        "\n",
        "print(meta.standardised_query(pl, \"is donald not happy\")[0]['Output'])"
      ],
      "metadata": {
        "colab": {
          "base_uri": "https://localhost:8080/"
        },
        "id": "R3M548PzfmFr",
        "outputId": "fce81fca-cfca-47fc-f36d-fe43e8f05a7a"
      },
      "execution_count": 52,
      "outputs": [
        {
          "output_type": "stream",
          "name": "stdout",
          "text": [
            "b'I am a blank slate'\n",
            "I will remember that donald is happy\n",
            "donald is happy\n",
            "b'donald is happy'\n"
          ]
        }
      ]
    },
    {
      "cell_type": "code",
      "source": [
        "print(meta.standardised_query(pl, \"forget everything\")[0]['Output'])\n",
        "print(meta.standardised_query(pl, \"donald is not happy\")[0]['Output'])\n",
        "print(meta.standardised_query(pl, \"tell me everything\")[0]['Output'])\n",
        "\n",
        "print(meta.standardised_query(pl, \"is donald happy\")[0]['Output'])"
      ],
      "metadata": {
        "id": "VqnPg9N-81Gz",
        "outputId": "0d352a27-918b-4f58-cc33-cef5d29d3253",
        "colab": {
          "base_uri": "https://localhost:8080/"
        }
      },
      "execution_count": 53,
      "outputs": [
        {
          "output_type": "stream",
          "name": "stdout",
          "text": [
            "b'I am a blank slate'\n",
            "I will remember that donald is not happy\n",
            "donald is not happy. donald is not happy\n",
            "b'donald is not happy'\n"
          ]
        }
      ]
    },
    {
      "cell_type": "markdown",
      "source": [
        "\n",
        "___\n",
        "The assignment asks us to prove:\n",
        "> Every teacher is happy. Donald is not happy. Therefore, Donald is not a teacher.\n",
        "\n",
        "This test fails, yielding the following dialogue:\n",
        "```\n",
        "user: \"tell me everything\".\n",
        "prolexa: donald is not happy. every teacher is happy\n",
        "\n",
        "user: \"is donald a teacher\".\n",
        "prolexa: Sorry, I don't think this is the case\n",
        "```\n",
        "Clearly, our reasoning methods are still falling short. If donald is happy, then we can not say for certain whether he is or is not a teacher. However, knowing that donald is not happy confirms that he cannot be a teacher, as all teachers are happy.\n",
        "\n",
        "When looking at the final predicate, it can be seen that prove_rb/4 tries to unify B with a body of a stored rule whos head matches the given A. It will cycle through all stored rules and try and find a matching rule, but in the second case this will not happen, as it will be trying to match teacher(donald) to happy(X), so it fails. We realised that a new predicate needed to be created, that mirrored the existing one and unified the head A, given a body B. The following predicate was added to prove_rb/4.:\n",
        "```\n",
        "prove_rb(true,_Rulebase,P,P):-!.\n",
        "prove_rb((A,B),Rulebase,P0,P):-!,\n",
        "    find_clause((A:-C),Rule,Rulebase),\n",
        "    conj_append(C,B,D),\n",
        "    prove_rb(D,Rulebase,[p((A,B),Rule)|P0],P).\n",
        "prove_rb(A,Rulebase,P0,P):-\n",
        "    find_clause((A:-B),Rule,Rulebase),\n",
        "    prove_rb(B,Rulebase,[p(A,Rule)|P0],P).\n",
        "```\n",
        "```julia\n",
        "prove_rb(not B,Rulebase,P0,P):-\n",
        "  find_clause((A:-B),Rule,Rulebase),\n",
        "\tprove_rb(not A,Rulebase,[p(not B,Rule)|P0],P).\n",
        "```\n",
        "We can now infer that donald is not a teacher, demonstrating an extension of the capability of prolexa to reason using negation."
      ],
      "metadata": {
        "id": "7A3FqbISZI6v"
      }
    },
    {
      "cell_type": "markdown",
      "source": [
        "---\n",
        "<font color='red'>Demonstration</font>: **Inferring answers to queries by reasoning through negation*"
      ],
      "metadata": {
        "id": "eoJXa4oWb6Qb"
      }
    },
    {
      "cell_type": "code",
      "source": [
        "print('Establish knowledge base:')\n",
        "print(meta.standardised_query(pl, \"forget everything\")[0]['Output'])\n",
        "print(meta.standardised_query(pl, \"every teacher is happy\")[0]['Output'])\n",
        "print(meta.standardised_query(pl, \"donald is not happy\")[0]['Output'])\n",
        "\n",
        "print('\\n Perform test:')\n",
        "print(meta.standardised_query(pl, \"explain why donald is not a teacher\")[0]['Output'])"
      ],
      "metadata": {
        "id": "hChvOvNJGMKH",
        "colab": {
          "base_uri": "https://localhost:8080/"
        },
        "outputId": "689d1da9-ed1a-4b52-888a-64875a2a21a0"
      },
      "execution_count": 54,
      "outputs": [
        {
          "output_type": "stream",
          "name": "stdout",
          "text": [
            "Establish knowledge base:\n",
            "b'I am a blank slate'\n",
            "I will remember that every teacher is happy\n",
            "I will remember that donald is not happy\n",
            "\n",
            " Perform test:\n",
            "donald is not happy; every teacher is happy; therefore donald is not a teacher\n"
          ]
        }
      ]
    },
    {
      "cell_type": "markdown",
      "source": [
        "---\n",
        "\n",
        "<font color='red'>Demonstration</font>: *Additional Question-Answer Capabilities*"
      ],
      "metadata": {
        "id": "rX8luLsHcHqS"
      }
    },
    {
      "cell_type": "code",
      "source": [
        "print('Establish knowledge base:')\n",
        "print(meta.standardised_query(pl, \"forget everything\")[0]['Output'])\n",
        "print(meta.standardised_query(pl, \"every teacher is happy\")[0]['Output'])\n",
        "print(meta.standardised_query(pl, \"donald is not happy\")[0]['Output'])\n",
        "\n",
        "\n",
        "print(\"Who is... / Is Donald ... examples\")\n",
        "print(meta.standardised_query(pl, \"who is not a teacher\")[0]['Output'])\n",
        "print(meta.standardised_query(pl, \"is donald not a teacher\")[0]['Output'])"
      ],
      "metadata": {
        "colab": {
          "base_uri": "https://localhost:8080/"
        },
        "id": "T8GHNIGodBAS",
        "outputId": "a888d903-5ddc-4e84-c421-a60f7684352e"
      },
      "execution_count": 55,
      "outputs": [
        {
          "output_type": "stream",
          "name": "stdout",
          "text": [
            "Establish knowledge base:\n",
            "b'I am a blank slate'\n",
            "I will remember that every teacher is happy\n",
            "I will remember that donald is not happy\n",
            "Who is... / Is Donald ... examples\n",
            "b'donald is not a teacher'\n",
            "b'donald is not a teacher'\n"
          ]
        }
      ]
    },
    {
      "cell_type": "markdown",
      "metadata": {
        "id": "xZp_HVgo64Nd"
      },
      "source": [
        "### For further testing"
      ]
    },
    {
      "cell_type": "code",
      "execution_count": 56,
      "metadata": {
        "id": "YIQ9Af5p_S1-",
        "colab": {
          "base_uri": "https://localhost:8080/",
          "height": 392
        },
        "outputId": "19daf49f-b0a0-47e0-cabd-bccbf299182d"
      },
      "outputs": [
        {
          "output_type": "stream",
          "name": "stdout",
          "text": [
            "\n",
            "2022-01-09 15:59:03,059 Warning: An empty Sentence was created! Are there empty strings in your dataset?\n"
          ]
        },
        {
          "output_type": "error",
          "ename": "IndexError",
          "evalue": "ignored",
          "traceback": [
            "\u001b[0;31m---------------------------------------------------------------------------\u001b[0m",
            "\u001b[0;31mIndexError\u001b[0m                                Traceback (most recent call last)",
            "\u001b[0;32m<ipython-input-56-c0bcbe7459da>\u001b[0m in \u001b[0;36m<module>\u001b[0;34m()\u001b[0m\n\u001b[1;32m      1\u001b[0m \u001b[0minput\u001b[0m \u001b[0;34m=\u001b[0m \u001b[0;34m''\u001b[0m  \u001b[0;31m#@param {type:\"string\"}\u001b[0m\u001b[0;34m\u001b[0m\u001b[0;34m\u001b[0m\u001b[0m\n\u001b[1;32m      2\u001b[0m \u001b[0mprint\u001b[0m\u001b[0;34m(\u001b[0m\u001b[0minput\u001b[0m\u001b[0;34m)\u001b[0m\u001b[0;34m\u001b[0m\u001b[0;34m\u001b[0m\u001b[0m\n\u001b[0;32m----> 3\u001b[0;31m \u001b[0mfirst_answer\u001b[0m \u001b[0;34m=\u001b[0m \u001b[0mmeta\u001b[0m\u001b[0;34m.\u001b[0m\u001b[0mstandardised_query\u001b[0m\u001b[0;34m(\u001b[0m\u001b[0mpl\u001b[0m\u001b[0;34m,\u001b[0m \u001b[0minput\u001b[0m\u001b[0;34m)\u001b[0m\u001b[0;34m[\u001b[0m\u001b[0;36m0\u001b[0m\u001b[0;34m]\u001b[0m\u001b[0;34m[\u001b[0m\u001b[0;34m'Output'\u001b[0m\u001b[0;34m]\u001b[0m\u001b[0;34m\u001b[0m\u001b[0;34m\u001b[0m\u001b[0m\n\u001b[0m\u001b[1;32m      4\u001b[0m \u001b[0mprint\u001b[0m\u001b[0;34m(\u001b[0m\u001b[0mfirst_answer\u001b[0m\u001b[0;34m)\u001b[0m\u001b[0;34m\u001b[0m\u001b[0;34m\u001b[0m\u001b[0m\n",
            "\u001b[0;32m/usr/local/lib/python3.7/dist-packages/prolexa/meta_grammar.py\u001b[0m in \u001b[0;36mstandardised_query\u001b[0;34m(pl, text)\u001b[0m\n\u001b[1;32m    127\u001b[0m     \u001b[0mtext\u001b[0m \u001b[0;34m=\u001b[0m \u001b[0mcontractions\u001b[0m\u001b[0;34m.\u001b[0m\u001b[0mfix\u001b[0m\u001b[0;34m(\u001b[0m\u001b[0mtext\u001b[0m\u001b[0;34m)\u001b[0m\u001b[0;34m\u001b[0m\u001b[0;34m\u001b[0m\u001b[0m\n\u001b[1;32m    128\u001b[0m     \u001b[0mtext\u001b[0m \u001b[0;34m=\u001b[0m \u001b[0mlemmatise\u001b[0m\u001b[0;34m(\u001b[0m\u001b[0mtext\u001b[0m\u001b[0;34m)\u001b[0m\u001b[0;34m\u001b[0m\u001b[0;34m\u001b[0m\u001b[0m\n\u001b[0;32m--> 129\u001b[0;31m     \u001b[0;32mreturn\u001b[0m \u001b[0mescape_and_call_prolexa\u001b[0m\u001b[0;34m(\u001b[0m\u001b[0mpl\u001b[0m\u001b[0;34m,\u001b[0m \u001b[0mtext\u001b[0m\u001b[0;34m)\u001b[0m\u001b[0;34m\u001b[0m\u001b[0;34m\u001b[0m\u001b[0m\n\u001b[0m\u001b[1;32m    130\u001b[0m \u001b[0;34m\u001b[0m\u001b[0m\n\u001b[1;32m    131\u001b[0m \u001b[0;31m# for queries, not knowledge loading\u001b[0m\u001b[0;34m\u001b[0m\u001b[0;34m\u001b[0m\u001b[0;34m\u001b[0m\u001b[0m\n",
            "\u001b[0;32m/usr/local/lib/python3.7/dist-packages/prolexa/meta_grammar.py\u001b[0m in \u001b[0;36mescape_and_call_prolexa\u001b[0;34m(pl, text)\u001b[0m\n\u001b[1;32m     99\u001b[0m \u001b[0;34m\u001b[0m\u001b[0m\n\u001b[1;32m    100\u001b[0m     \u001b[0mlibPrefix\u001b[0m \u001b[0;34m=\u001b[0m \u001b[0;34m'prolexa:'\u001b[0m\u001b[0;34m\u001b[0m\u001b[0;34m\u001b[0m\u001b[0m\n\u001b[0;32m--> 101\u001b[0;31m     \u001b[0mgenerator\u001b[0m \u001b[0;34m=\u001b[0m \u001b[0mpl\u001b[0m\u001b[0;34m.\u001b[0m\u001b[0mquery\u001b[0m\u001b[0;34m(\u001b[0m\u001b[0mlibPrefix\u001b[0m \u001b[0;34m+\u001b[0m \u001b[0mhandle_utterance_str\u001b[0m\u001b[0;34m(\u001b[0m\u001b[0mtext\u001b[0m\u001b[0;34m)\u001b[0m\u001b[0;34m)\u001b[0m\u001b[0;34m\u001b[0m\u001b[0;34m\u001b[0m\u001b[0m\n\u001b[0m\u001b[1;32m    102\u001b[0m     \u001b[0;32mreturn\u001b[0m \u001b[0mlist\u001b[0m\u001b[0;34m(\u001b[0m\u001b[0mgenerator\u001b[0m\u001b[0;34m)\u001b[0m\u001b[0;34m\u001b[0m\u001b[0;34m\u001b[0m\u001b[0m\n\u001b[1;32m    103\u001b[0m \u001b[0;34m\u001b[0m\u001b[0m\n",
            "\u001b[0;32m/usr/local/lib/python3.7/dist-packages/prolexa/meta_grammar.py\u001b[0m in \u001b[0;36mhandle_utterance_str\u001b[0;34m(text)\u001b[0m\n\u001b[1;32m    112\u001b[0m \u001b[0;34m\u001b[0m\u001b[0m\n\u001b[1;32m    113\u001b[0m \u001b[0;32mdef\u001b[0m \u001b[0mhandle_utterance_str\u001b[0m\u001b[0;34m(\u001b[0m\u001b[0mtext\u001b[0m\u001b[0;34m)\u001b[0m\u001b[0;34m:\u001b[0m\u001b[0;34m\u001b[0m\u001b[0;34m\u001b[0m\u001b[0m\n\u001b[0;32m--> 114\u001b[0;31m     \u001b[0;32mif\u001b[0m \u001b[0mtext\u001b[0m\u001b[0;34m[\u001b[0m\u001b[0;36m0\u001b[0m\u001b[0;34m]\u001b[0m \u001b[0;34m!=\u001b[0m \u001b[0;34m\"'\"\u001b[0m \u001b[0;32mand\u001b[0m \u001b[0mtext\u001b[0m\u001b[0;34m[\u001b[0m\u001b[0;36m0\u001b[0m\u001b[0;34m]\u001b[0m \u001b[0;34m!=\u001b[0m \u001b[0;34m'\"'\u001b[0m \u001b[0;34m:\u001b[0m\u001b[0;34m\u001b[0m\u001b[0;34m\u001b[0m\u001b[0m\n\u001b[0m\u001b[1;32m    115\u001b[0m         \u001b[0mtext\u001b[0m \u001b[0;34m=\u001b[0m \u001b[0;34mf'\"{text}\"'\u001b[0m\u001b[0;34m\u001b[0m\u001b[0;34m\u001b[0m\u001b[0m\n\u001b[1;32m    116\u001b[0m \u001b[0;34m\u001b[0m\u001b[0m\n",
            "\u001b[0;31mIndexError\u001b[0m: string index out of range"
          ]
        }
      ],
      "source": [
        "input = ''  #@param {type:\"string\"}\n",
        "print(input)\n",
        "first_answer = meta.standardised_query(pl, input)[0]['Output']\n",
        "print(first_answer)"
      ]
    }
  ],
  "metadata": {
    "colab": {
      "collapsed_sections": [],
      "name": "CourseworkNotebook.ipynb",
      "provenance": []
    },
    "kernelspec": {
      "display_name": "Python 3",
      "name": "python3"
    },
    "language_info": {
      "name": "python"
    }
  },
  "nbformat": 4,
  "nbformat_minor": 0
}