{
  "cells": [
    {
      "cell_type": "markdown",
      "metadata": {
        "id": "view-in-github",
        "colab_type": "text"
      },
      "source": [
        "<a href=\"https://colab.research.google.com/github/phillipSloan/ComputationalLogic/blob/prolexa-plus/Report%20Notebook%20Draft.ipynb\" target=\"_parent\"><img src=\"https://colab.research.google.com/assets/colab-badge.svg\" alt=\"Open In Colab\"/></a>"
      ]
    },
    {
      "cell_type": "markdown",
      "source": [
        "# Report for COMSM0022 Computational Logic for Artificial Intelligence (2021)\n",
        "\n",
        "## created by [Phillip Sloan](https://gibhub.com/phillipSloan) and [Jonathan Erskine](https://github.com/jmerskine1)\n",
        "\n",
        "### Introduction\n",
        "\n",
        "This report demonstrates our approach to this assignment, walking through how we implemented negation and other command line code. It seeks to explain our thought process, which was wrong at certain points, causing unwanted proofs from the meta-interpreter. There are several snippets of code throughout this report of how our code was created, with the Colab notebook demonstrating the final implementation. A link to it can be found at the top of this report.\n"
      ],
      "metadata": {
        "id": "x2iEtnjH0Jz5"
      }
    },
    {
      "cell_type": "markdown",
      "metadata": {
        "id": "hij-_4uHAzIj"
      },
      "source": [
        "## First we get Prolexa running:\n",
        "### Install SWI-Prolog & Prolexa"
      ]
    },
    {
      "cell_type": "code",
      "execution_count": 1,
      "metadata": {
        "id": "HDY7hKs490UH"
      },
      "outputs": [],
      "source": [
        "!apt-get install swi-prolog -qqq > /dev/null\n",
        "!yes | pip install git+https://github.com/phillipSloan/ComputationalLogic/ -qqq > /dev/null\n",
        "\n",
        "from pyswip import Prolog\n",
        "import prolexa.meta_grammar as meta\n",
        "\n",
        "# Added this due to an error with meta\n",
        "import nltk\n",
        "nltk.download('omw-1.4')\n",
        "  \n",
        "\n",
        "pl = Prolog()\n",
        "meta.reset_grammar()\n",
        "meta.initialise_prolexa(pl)\n",
        "\n",
        "# clearing the output to keep it tidy\n",
        "from IPython.display import clear_output \n",
        "clear_output()"
      ]
    },
    {
      "cell_type": "markdown",
      "metadata": {
        "id": "UsWtwSz2BX9l"
      },
      "source": [
        "### Add a standard few rules\n",
        "First check the traditional one work:"
      ]
    },
    {
      "cell_type": "code",
      "execution_count": 5,
      "metadata": {
        "colab": {
          "base_uri": "https://localhost:8080/"
        },
        "id": "J-_HAtkIm19i",
        "outputId": "406f1076-52ba-4486-d9ed-d4def2826cc8"
      },
      "outputs": [
        {
          "output_type": "stream",
          "name": "stdout",
          "text": [
            "donald is not happy. donald is not happy\n",
            "I will remember that peter is human\n",
            "I will remember that every human is mortal\n",
            "peter is human; every human is mortal; therefore peter is mortal\n"
          ]
        }
      ],
      "source": [
        "print(meta.standardised_query(pl, \"spill the beans\")[0]['Output'])\n",
        "\n",
        "print(meta.standardised_query(pl, \"peter is human\")[0]['Output'])\n",
        "print(meta.standardised_query(pl, \"every human is mortal\")[0]['Output'])\n",
        "\n",
        "print(meta.standardised_query(pl, \"explain why peter is mortal\")[0]['Output'])"
      ]
    },
    {
      "cell_type": "markdown",
      "source": [
        "##Understanding the meta-interpreter\n",
        "\n",
        "We decided to focus on adding negation to Prolexa. Which asked us to implement: \n",
        "\n",
        ">Every teacher is happy. Donald is not happy. Therefore, Donald is not a teacher.\n",
        "\n",
        "Our first thoughts were to add the rule \"Every teacher is happy\" and \"Donald is happy\" to the stored rules, and see if Prolexa could understand this logic."
      ],
      "metadata": {
        "id": "OB8LJ8wQ2vY2"
      }
    },
    {
      "cell_type": "code",
      "source": [
        "print(meta.standardised_query(pl, \"every teacher is happy\")[0]['Output'])\n",
        "print(meta.standardised_query(pl, \"donald is happy\")[0]['Output'])\n",
        "print(meta.standardised_query(pl, \"explain why donald is a teacher\")[0]['Output'])"
      ],
      "metadata": {
        "id": "Kerz6vPH3bOP",
        "outputId": "7792d6ba-7340-4796-d346-3bcc9b071a56",
        "colab": {
          "base_uri": "https://localhost:8080/"
        }
      },
      "execution_count": 6,
      "outputs": [
        {
          "output_type": "stream",
          "name": "stdout",
          "text": [
            "I will remember that every teacher is happy\n",
            "I will remember that donald is happy\n",
            "Sorry, I don't think this is the case\n"
          ]
        }
      ]
    },
    {
      "cell_type": "markdown",
      "source": [
        "We thought it was strange that the meta-interpreter could not handle the second case. Looking at the existing prove_rb meta interpreter:\n",
        "\n",
        "```prolog\n",
        "prove_rb(true,_Rulebase,P,P):-!.\n",
        "prove_rb((A,B),Rulebase,P0,P):-!,\n",
        "\tfind_clause((A:-C),Rule,Rulebase),\n",
        "\tconj_append(C,B,D),\n",
        "    prove_rb(D,Rulebase,[p((A,B),Rule)|P0],P).\n",
        "prove_rb(A,Rulebase,P0,P):-\n",
        "    find_clause((A:-B),Rule,Rulebase),\n",
        "\tprove_rb(B,Rulebase,[p(A,Rule)|P0],P).\n",
        "```\n",
        "\n",
        "When looking at the final predicate, it can be seen that prove_rb/4 tries to unify B with a body of a stored rule which head matches the given A. It will cycle through all stored_rules and try and find a matching rule, but in the second case this will not happen, as it will be trying to match teacher(donald) to happy(X), so it fails. We realised that a new predicate needed to be created, that mirrored the existing one and unified the head A, given a body B. The following predicate was added to prove_rb/4.\n",
        "\n",
        "```prolog\n",
        "prove_rb(B,Rulebase,P0,P):-\n",
        "  find_clause((A:-B),Rule,Rulebase),\n",
        "\tprove_rb(A,Rulebase,[p(B,Rule)|P0],P).\n",
        "```\n",
        "Adding this statement allowed Prolexa to prove the second statement. However, when discussing this meta-interpreter we realised there was a flaw in our intial logic. We should not be trying to prove `teacher(donald)` from `happy(X):-teacher(X).` as it doesn't follow logically from it.  The rule means `Every teacher is happy`. Teachers are a subset of happy, but the rule doesn't provide the information that all happy X's are teachers. \n",
        "\n",
        "Instead of `happy(X):-teacher(X)`, we need to have the rule `teacher(X):-happy(X)` which logically means if happy then teacher.\n",
        "\n",
        "This meant we had to add the following to prolexa_grammar.pl:\n",
        "\n",
        "```prolog\n",
        "sentence1(C) --> flipped_verb_phrase(N,M1), flipped_determiner(N,M1,M2,C),  noun(N,M2).\n",
        "\n",
        "flipped_verb_phrase(s,M) --> [if],property(s,M).\n",
        "flipped_verb_phrase(p,M) --> [if],property(p,M).\n",
        "\n",
        "flipped_determiner(s,X=>B,X=>H,[(H:-B)]) --> [then].\n",
        "flipped_determiner(p,X=>B,X=>H,[(H:-B)]) --> [then].\n",
        "```"
      ],
      "metadata": {
        "id": "0LgccFsh35pF"
      }
    },
    {
      "cell_type": "markdown",
      "metadata": {
        "id": "X3QCHvhO64Nb"
      },
      "source": [
        "### Negation\n",
        "To implement negation we suplemented the existing prolexa .pl files, prolexa_grammar.pl was extended with the following code:\n",
        "\n",
        "\n",
        "```prolog\n",
        ":-op(900,fy,not).\n",
        "\n",
        "sentence1([(H:-not(B))]) --> determiner(N,M1,M2,[(H:-B)]),noun(N,M1),verb_phrase(N,not(M2)).\n",
        "sentence1([(not(L):-true)]) --> proper_noun(N,X),verb_phrase(N,not(X=>L)).\n",
        "\n",
        "verb_phrase(s,not(M)) --> [is],[not],property(s,M).\n",
        "verb_phrase(s,not(M)) --> [not],property(s,M).\n",
        "\n",
        "question1(not(Q)) --> [who],verb_phrase(s,not(_X=>Q)).\n",
        "```\n",
        "The op:- not code was used from the simply logical book / lectures. sentence1 was extended to allow negation of rules such as `not(happy(donald)):-true.` and `teacher(X):-not(happy(X)).`. Although the first is not needed for the assignments task, it was added for completeness and for adding our own rules. verb_phrase was also extended to allow the grammar to cope with `<noun> is not <verb>` as input. question1's addition allows `who is not <verb>` to be utilized.\n",
        "\n",
        "\n",
        "\n",
        "\n",
        "\n"
      ]
    },
    {
      "cell_type": "code",
      "execution_count": 7,
      "metadata": {
        "id": "GcOmuuPE64Nc",
        "outputId": "2e83197c-426e-4e15-d7a3-523659bfe4c2",
        "colab": {
          "base_uri": "https://localhost:8080/"
        }
      },
      "outputs": [
        {
          "output_type": "stream",
          "name": "stdout",
          "text": [
            "b'I am a blank slate'\n",
            "I will remember that donald is not happy\n"
          ]
        }
      ],
      "source": [
        "print(meta.standardised_query(pl, \"forget everything\")[0]['Output'])\n",
        "print(meta.standardised_query(pl, \"donald is not happy\")[0]['Output'])"
      ]
    },
    {
      "cell_type": "markdown",
      "source": [
        "The following code was added to prolexa_engine.pl, which was derived from the existing prove_rb clause.:\n",
        "\n",
        "```prolog\n",
        "prove_rb(not A,Rulebase,P0,P):-\n",
        "  find_clause((A:-B),Rule,Rulebase),\n",
        "\tprove_rb(not B,Rulebase,[p( not A,Rule)|P0],P).\n",
        "```\n",
        "\n",
        "\n"
      ],
      "metadata": {
        "id": "lcQSKc9c9wzb"
      }
    },
    {
      "cell_type": "markdown",
      "metadata": {
        "id": "SdPw6jkN64Nc"
      },
      "source": [
        " We now add a rule stating that Donald isn't happy which shows our implementation of negation implementing the stored rule `not(happy(donald)):-true.`.\n",
        "\n",
        "It also demonstrates the remove_conflicting_rules predicate working, as the previous happy rule rule is removed."
      ]
    },
    {
      "cell_type": "markdown",
      "source": [
        "\n",
        "\n",
        "Adding `happy(X):-teacher(X)` and then using \"explain\" to demonstrate the working negated prove_rb meta-interpreter."
      ],
      "metadata": {
        "id": "QzNqscRFEZYc"
      }
    },
    {
      "cell_type": "code",
      "execution_count": 9,
      "metadata": {
        "id": "l8kALhQh64Nd",
        "outputId": "0edf9708-664f-4961-c32c-32c66319ce6c",
        "colab": {
          "base_uri": "https://localhost:8080/"
        }
      },
      "outputs": [
        {
          "output_type": "stream",
          "name": "stdout",
          "text": [
            "I will remember that if happy then teacher\n",
            "donald is not happy; if happy then teacher; therefore donald is not teacher\n"
          ]
        }
      ],
      "source": [
        "print(meta.standardised_query(pl, \"if happy then teacher\")[0]['Output'])\n",
        "print(meta.standardised_query(pl, \"explain why donald is not a teacher\")[0]['Output'])"
      ]
    },
    {
      "cell_type": "markdown",
      "source": [
        "Final two demonstrate the negation working in Prolexa with the questions \"Who and \"Is\" "
      ],
      "metadata": {
        "id": "GeZljEa7GKWQ"
      }
    },
    {
      "cell_type": "code",
      "source": [
        "print(meta.standardised_query(pl, \"who is not a teacher\")[0]['Output'])\n",
        "print(meta.standardised_query(pl, \"is donald not a teacher\")[0]['Output'])"
      ],
      "metadata": {
        "id": "hChvOvNJGMKH",
        "outputId": "0a0e2629-51e9-4892-f603-3f93ab22e44d",
        "colab": {
          "base_uri": "https://localhost:8080/"
        }
      },
      "execution_count": 10,
      "outputs": [
        {
          "output_type": "stream",
          "name": "stdout",
          "text": [
            "b'donald is not teacher'\n",
            "b'donald is not teacher'\n"
          ]
        }
      ]
    },
    {
      "cell_type": "markdown",
      "metadata": {
        "id": "xZp_HVgo64Nd"
      },
      "source": [
        "### For further testing"
      ]
    },
    {
      "cell_type": "code",
      "execution_count": null,
      "metadata": {
        "id": "YIQ9Af5p_S1-",
        "outputId": "d298973f-219f-49cc-a81e-5737ebd0c8e3",
        "colab": {
          "base_uri": "https://localhost:8080/"
        }
      },
      "outputs": [
        {
          "output_type": "stream",
          "name": "stdout",
          "text": [
            "tell me everything you know\n",
            "peter is human. every human is mortal. donald is not happy. donald is not happy. every teacher is happy\n"
          ]
        }
      ],
      "source": [
        "input = ''  #@param {type:\"string\"}\n",
        "print(input)\n",
        "first_answer = meta.standardised_query(pl, input)[0]['Output']\n",
        "print(first_answer)"
      ]
    },
    {
      "cell_type": "code",
      "source": [
        ""
      ],
      "metadata": {
        "id": "P0et0aTkLGOt"
      },
      "execution_count": null,
      "outputs": []
    }
  ],
  "metadata": {
    "colab": {
      "collapsed_sections": [],
      "name": "Prolexa Plus Demo Notebook.ipynb",
      "provenance": [],
      "include_colab_link": true
    },
    "kernelspec": {
      "display_name": "Python 3",
      "name": "python3"
    },
    "language_info": {
      "name": "python"
    }
  },
  "nbformat": 4,
  "nbformat_minor": 0
}